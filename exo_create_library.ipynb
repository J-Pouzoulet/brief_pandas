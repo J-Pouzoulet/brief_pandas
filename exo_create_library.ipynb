{
 "cells": [
  {
   "cell_type": "code",
   "execution_count": null,
   "metadata": {},
   "outputs": [],
   "source": [
    "import pandas as pd\n",
    "import matplotlib as mpl\n",
    "import matplotlib.pyplot as plt\n",
    "import matplotlib.mlab as mlab\n",
    "import numpy as np\n",
    "\n",
    "#df = pd.read_csv('akinator IA3.csv')\n"
   ]
  },
  {
   "cell_type": "markdown",
   "metadata": {},
   "source": [
    "# Définir un module Akinator"
   ]
  },
  {
   "cell_type": "code",
   "execution_count": 1,
   "metadata": {},
   "outputs": [
    {
     "name": "stdout",
     "output_type": "stream",
     "text": [
      "Oh Yeah!!!\n",
      "You have create a Data Class, great job!!!\n"
     ]
    }
   ],
   "source": [
    "from akinator.data import Data"
   ]
  },
  {
   "cell_type": "markdown",
   "metadata": {},
   "source": [
    "Définir un dossier akinator qui contient :\n",
    "- un fichier data.py\n",
    "- le csv akinator.csv\n",
    "- un fichier __init__.py\n",
    "Celui-ci doit permettre d'executer les lignes des cellules suivantes dupuis n'importe quel notebooks."
   ]
  },
  {
   "cell_type": "code",
   "execution_count": 3,
   "metadata": {},
   "outputs": [],
   "source": [
    "akinator = Data()"
   ]
  },
  {
   "cell_type": "code",
   "execution_count": 4,
   "metadata": {},
   "outputs": [
    {
     "name": "stdout",
     "output_type": "stream",
     "text": [
      "SOOOO Coooool!!!\n"
     ]
    }
   ],
   "source": [
    "df = akinator.get_data()"
   ]
  },
  {
   "cell_type": "code",
   "execution_count": 5,
   "metadata": {},
   "outputs": [
    {
     "data": {
      "text/plain": [
       "(                          Nom     github name Anniversaire  \\\n",
       " 0         Jonathan   Serafini           Joz84   16/05/1984   \n",
       " 1        Constance     Rogeon    ConstanceR33   16/09/1997   \n",
       " 2             Remy       Nowe          RemyNW   19/08/1995   \n",
       " 3          Camille    Hoareau     Camille9999   22/02/1998   \n",
       " 4            Marie      Lizot       Skyspaper   25/11/1991   \n",
       " 5           Django   Langella      MirshkoSta   07/11/2004   \n",
       " 6           Louise   Delauney          Iouize   19/09/2000   \n",
       " 7         Lauriane     Nathou     Lauriane-TN   13/11/1989   \n",
       " 8          Michaël       Wilk       MickaWilk   08/05/1991   \n",
       " 9             Hadi     Sqalli         hadisql   03/10/1991   \n",
       " 10        Matthieu    Meunier        Mafflexo   18/03/1997   \n",
       " 11          Thomas   Andurand       thomandur   26/03/1992   \n",
       " 12         Quentin    Goubert         goubzer   07/11/1999   \n",
       " 13       Esperance     Asngar        Altagrac   23/02/1989   \n",
       " 14         Mathieu  Baffoigne         Youliix   30/07/1994   \n",
       " 15        Laurendi     Mugica  MugicaLaurendi   24/03/1997   \n",
       " 16          Nariné   Asatrian          Nan000   27/01/1993   \n",
       " 17           Leona       Rose      simplonlro   11/10/1983   \n",
       " 18          Jerome  Pouzoulet     J-Pouzoulet   28/10/1981   \n",
       " 19           Hemon     Gnambe      AkeGPrince   03/09/1990   \n",
       " 20          Hugues  Odekerken     Superhughhh   07/03/1993   \n",
       " 21          Chouki    Gueddar       Janna2020   16/08/1978   \n",
       " 22             NaN        NaN             NaN          NaN   \n",
       " 23             NaN        NaN             NaN          NaN   \n",
       " 24             NaN        NaN             NaN          NaN   \n",
       " 25             NaN        NaN             NaN          NaN   \n",
       " 26             NaN        NaN             NaN          NaN   \n",
       " 27             NaN        NaN             NaN          NaN   \n",
       " 28             NaN        NaN             NaN          NaN   \n",
       " 29             NaN        NaN             NaN          NaN   \n",
       " 30             NaN        NaN             NaN          NaN   \n",
       " 31             NaN        NaN             NaN          NaN   \n",
       " \n",
       "                             email  Animal totem  Thé ou Café       Fumeur  \\\n",
       " 0                             NaN      Elephant          Thé          non   \n",
       " 1    constance.rogeon40@gmail.com         Hibou         Café          oui   \n",
       " 2             nowe.remy@gmail.com       Belette         Café          oui   \n",
       " 3   hoareau.camille.pro@gmail.com          Loup         Café          non   \n",
       " 4                             NaN      Elephant  Café et Thé          non   \n",
       " 5      djangolangella04@gmail.com    Panda roux          Thé          oui   \n",
       " 6        louisedelauney@gmail.com  Raton laveur          Thé          non   \n",
       " 7        laurianenathou@gmail.com        Tortue          Thé          non   \n",
       " 8            micka.wilk@gmail.com          Loup         Café  occasionnel   \n",
       " 9            sqallihadi@gmail.com      Scarabée         Café  occasionnel   \n",
       " 10                            NaN      Chouette         Café          oui   \n",
       " 11                            NaN      Caméléon         Café          oui   \n",
       " 12                            NaN      Elephant         Café          oui   \n",
       " 13     esperance.asngar@gmail.com   Hippopotame  Café et Thé          non   \n",
       " 14       math.baffoigne@gmail.com        Renard  Café et Thé          non   \n",
       " 15      laurendi.mugica@gmail.com          Ours         Café          non   \n",
       " 16         n.asatrian93@gmail.com      Perruche          Thé          non   \n",
       " 17          leonarose28@gmail.com        Lionne  Café et Thé          non   \n",
       " 18                            NaN          Lynx         Café          non   \n",
       " 19                            NaN     Crocodile         Café          non   \n",
       " 20                            NaN          Loup         Café          non   \n",
       " 21                            NaN        Girafe  Café et Thé          non   \n",
       " 22                            NaN           NaN          NaN          NaN   \n",
       " 23                            NaN           NaN          NaN          NaN   \n",
       " 24                            NaN           NaN          NaN          NaN   \n",
       " 25                            NaN           NaN          NaN          NaN   \n",
       " 26                            NaN           NaN          NaN          NaN   \n",
       " 27                            NaN           NaN          NaN          NaN   \n",
       " 28                            NaN           NaN          NaN          NaN   \n",
       " 29                            NaN           NaN          NaN          NaN   \n",
       " 30                            NaN           NaN          NaN          NaN   \n",
       " 31                            NaN           NaN          NaN          NaN   \n",
       " \n",
       "       Couleur H / F  ...         Moyenne générale en CE2 Taille (cm)  \\\n",
       " 0        bleu     h  ...                             NaN       190.0   \n",
       " 1        noir     f  ...                             NaN       167.5   \n",
       " 2        bleu     h  ...                             NaN       188.0   \n",
       " 3        vert     h  ...                             NaN       175.0   \n",
       " 4        bleu     f  ...                  c'est heuuuu 2       158.5   \n",
       " 5        bleu     h  ...                 j'ai pas le CE2       171.0   \n",
       " 6        vert     f  ...                  c'est eux deux       161.0   \n",
       " 7       rouge     f  ...                             NaN       151.0   \n",
       " 8   turquoise     h  ...                              11       181.0   \n",
       " 9        bleu     h  ...                             NaN       174.0   \n",
       " 10       noir     h  ...  Mes chaussures courraient vite       172.0   \n",
       " 11       vert     h  ...                             NaN       180.0   \n",
       " 12       noir     h  ...                              12       230.0   \n",
       " 13      rouge     f  ...                             NaN       176.0   \n",
       " 14     orange     h  ...                              12       161.0   \n",
       " 15      rouge     h  ...                             NaN       186.0   \n",
       " 16      blanc     f  ...                              13       163.0   \n",
       " 17  turquoise     f  ...                             NaN       158.0   \n",
       " 18       bleu     h  ...                             NaN       180.0   \n",
       " 19       gris     h  ...                             NaN       187.0   \n",
       " 20       bleu     h  ...                             NaN       184.0   \n",
       " 21     violet     h  ...                             NaN       175.0   \n",
       " 22        NaN   NaN  ...                             NaN         NaN   \n",
       " 23        NaN   NaN  ...                             NaN         NaN   \n",
       " 24        NaN   NaN  ...                             NaN         NaN   \n",
       " 25        NaN   NaN  ...                             NaN         NaN   \n",
       " 26        NaN   NaN  ...                             NaN         NaN   \n",
       " 27        NaN   NaN  ...                             NaN         NaN   \n",
       " 28        NaN   NaN  ...                             NaN         NaN   \n",
       " 29        NaN   NaN  ...                             NaN         NaN   \n",
       " 30        NaN   NaN  ...                             NaN         NaN   \n",
       " 31        NaN   NaN  ...                             NaN         NaN   \n",
       " \n",
       "    Taille de pied Unnamed: 35 Unnamed: 36 Unnamed: 37 Unnamed: 38 Unnamed: 39  \\\n",
       " 0            46.0         NaN         NaN         NaN         NaN         NaN   \n",
       " 1            38.5         NaN         NaN         😡😡😡         😡😡😡         😡😡😡   \n",
       " 2            46.0         NaN         😡😡😡         😡😡😡         😡😡😡         😡😡😡   \n",
       " 3            43.0         NaN         😡😡😡         😡😡😡         😡😡😡         😡😡😡   \n",
       " 4            37.5         NaN         😡😡😡         😡😡😡         😡😡😡         😡😡😡   \n",
       " 5            41.0         😡😡😡         😡😡😡         ⚪⚫⚪         😡😡😡         ⚪⚫⚪   \n",
       " 6            39.0         😡😡😡         😡😡😡         ⚪⚫⚪         😡😡😡         ⚪⚫⚪   \n",
       " 7            36.0         😡😡😡         😡😡😡         ⚪⚫⚪         😡😡😡         ⚪⚫⚪   \n",
       " 8            44.0         😡😡😡         😡😡😡         😡😡😡         NaN         😡😡😡   \n",
       " 9            42.5         😡😡😡         😡😡😡         😡😡😡         😡😡😡         😡😡😡   \n",
       " 10           41.0         😡😡😡         😡😡😡         😡😡😡         😡😡😡         😡😡😡   \n",
       " 11           43.0         😡😡😡         ⚪⚪⚪         😡😡😡         😡😡😡         😡😡😡   \n",
       " 12           48.0         😡😡😡         NaN         😡😡😡         😡😡😡         😡😡😡   \n",
       " 13           42.0         😡😡😡         ⚪⚪⚪         ⚪⚪⚪         ⚪⚪⚪         ⚪⚪⚪   \n",
       " 14           41.0         😡😡😡         😡😡😡         ⚫⚫⚫         😡😡😡         ⚫⚫⚫   \n",
       " 15           45.0         😡😡😡         😡😡😡         ⚪⚪⚪         ⚪⚪⚪         ⚪⚪⚪   \n",
       " 16           37.0         NaN         😡😡😡         😡😡😡         😡😡😡         😡😡😡   \n",
       " 17           36.0         NaN         😡😡😡         😡😡😡         😡😡😡         😡😡😡   \n",
       " 18           42.0         NaN         😡😡😡         😡😡😡         😡😡😡         😡😡😡   \n",
       " 19           44.5         NaN         NaN         😡😡😡         😡😡😡         😡😡😡   \n",
       " 20           42.5         NaN         NaN         NaN         NaN         NaN   \n",
       " 21           43.0         NaN         NaN         NaN         NaN         NaN   \n",
       " 22            NaN         NaN         NaN         NaN         NaN         NaN   \n",
       " 23            NaN         NaN         NaN         NaN         NaN         NaN   \n",
       " 24            NaN         NaN         NaN         NaN         NaN         NaN   \n",
       " 25            NaN         NaN         NaN         NaN         NaN         NaN   \n",
       " 26            NaN         NaN         NaN         NaN         NaN         NaN   \n",
       " 27            NaN         NaN         NaN         NaN         NaN         NaN   \n",
       " 28            NaN         NaN         NaN         NaN         NaN         NaN   \n",
       " 29            NaN         NaN         NaN         NaN         NaN         NaN   \n",
       " 30            NaN         NaN         NaN         NaN         NaN         NaN   \n",
       " 31            NaN         NaN         NaN         NaN         NaN         NaN   \n",
       " \n",
       "    Unnamed: 40 Unnamed: 41  \n",
       " 0          NaN         NaN  \n",
       " 1          NaN         NaN  \n",
       " 2          😡😡😡         NaN  \n",
       " 3          😡😡😡         NaN  \n",
       " 4          😡😡😡         NaN  \n",
       " 5          😡😡😡         😡😡😡  \n",
       " 6          😡😡😡         😡😡😡  \n",
       " 7          😡😡😡         😡😡😡  \n",
       " 8          😡😡😡         😡😡😡  \n",
       " 9          😡😡😡         😡😡😡  \n",
       " 10         😡😡😡         😡😡😡  \n",
       " 11         ⚪⚪⚪         😡😡😡  \n",
       " 12         NaN         😡😡😡  \n",
       " 13         ⚪⚪⚪         😡😡😡  \n",
       " 14         😡😡😡         😡😡😡  \n",
       " 15         😡😡😡         😡😡😡  \n",
       " 16         😡😡😡         NaN  \n",
       " 17         😡😡😡         NaN  \n",
       " 18         😡😡😡         NaN  \n",
       " 19         NaN         NaN  \n",
       " 20         NaN         NaN  \n",
       " 21         NaN         NaN  \n",
       " 22         NaN         NaN  \n",
       " 23         NaN         NaN  \n",
       " 24         NaN         NaN  \n",
       " 25         NaN         NaN  \n",
       " 26         NaN         NaN  \n",
       " 27         NaN         NaN  \n",
       " 28         NaN         NaN  \n",
       " 29         NaN         NaN  \n",
       " 30         NaN         NaN  \n",
       " 31         NaN         NaN  \n",
       " \n",
       " [32 rows x 42 columns],\n",
       " None)"
      ]
     },
     "execution_count": 5,
     "metadata": {},
     "output_type": "execute_result"
    }
   ],
   "source": [
    "df"
   ]
  },
  {
   "cell_type": "code",
   "execution_count": null,
   "metadata": {},
   "outputs": [],
   "source": [
    "from akinator.data import Data\n",
    "akinator = Data()\n",
    "df = akinator.get_data()\n",
    "df\n"
   ]
  },
  {
   "cell_type": "code",
   "execution_count": null,
   "metadata": {},
   "outputs": [],
   "source": [
    "\n",
    "import sys\n",
    "# printing all directories for \n",
    "# interpreter to search\n",
    "sys.path\n",
    "        "
   ]
  },
  {
   "cell_type": "code",
   "execution_count": null,
   "metadata": {},
   "outputs": [],
   "source": []
  },
  {
   "cell_type": "code",
   "execution_count": null,
   "metadata": {},
   "outputs": [],
   "source": []
  }
 ],
 "metadata": {
  "kernelspec": {
   "display_name": "Python 3.8.12 64-bit ('shims')",
   "language": "python",
   "name": "python3"
  },
  "language_info": {
   "codemirror_mode": {
    "name": "ipython",
    "version": 3
   },
   "file_extension": ".py",
   "mimetype": "text/x-python",
   "name": "python",
   "nbconvert_exporter": "python",
   "pygments_lexer": "ipython3",
   "version": "3.8.12"
  },
  "orig_nbformat": 4,
  "vscode": {
   "interpreter": {
    "hash": "e588d92b224e11b16adbbadd39936dea13a6488171770263a646fc57f44563d8"
   }
  }
 },
 "nbformat": 4,
 "nbformat_minor": 2
}
